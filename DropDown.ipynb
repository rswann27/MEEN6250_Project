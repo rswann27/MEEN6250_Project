{
 "cells": [
  {
   "cell_type": "code",
   "execution_count": 20,
   "metadata": {},
   "outputs": [
    {
     "data": {
      "text/html": [
       "<style>\n",
       "        .bk-notebook-logo {\n",
       "            display: block;\n",
       "            width: 20px;\n",
       "            height: 20px;\n",
       "            background-image: url(data:image/png;base64,iVBORw0KGgoAAAANSUhEUgAAABQAAAAUCAYAAACNiR0NAAAABHNCSVQICAgIfAhkiAAAAAlwSFlzAAALEgAACxIB0t1+/AAAABx0RVh0U29mdHdhcmUAQWRvYmUgRmlyZXdvcmtzIENTNui8sowAAAOkSURBVDiNjZRtaJVlGMd/1/08zzln5zjP1LWcU9N0NkN8m2CYjpgQYQXqSs0I84OLIC0hkEKoPtiH3gmKoiJDU7QpLgoLjLIQCpEsNJ1vqUOdO7ppbuec5+V+rj4ctwzd8IIbbi6u+8f1539dt3A78eXC7QizUF7gyV1fD1Yqg4JWz84yffhm0qkFqBogB9rM8tZdtwVsPUhWhGcFJngGeWrPzHm5oaMmkfEg1usvLFyc8jLRqDOMru7AyC8saQr7GG7f5fvDeH7Ej8CM66nIF+8yngt6HWaKh7k49Soy9nXurCi1o3qUbS3zWfrYeQDTB/Qj6kX6Ybhw4B+bOYoLKCC9H3Nu/leUTZ1JdRWkkn2ldcCamzrcf47KKXdAJllSlxAOkRgyHsGC/zRday5Qld9DyoM4/q/rUoy/CXh3jzOu3bHUVZeU+DEn8FInkPBFlu3+nW3Nw0mk6vCDiWg8CeJaxEwuHS3+z5RgY+YBR6V1Z1nxSOfoaPa4LASWxxdNp+VWTk7+4vzaou8v8PN+xo+KY2xsw6une2frhw05CTYOmQvsEhjhWjn0bmXPjpE1+kplmmkP3suftwTubK9Vq22qKmrBhpY4jvd5afdRA3wGjFAgcnTK2s4hY0/GPNIb0nErGMCRxWOOX64Z8RAC4oCXdklmEvcL8o0BfkNK4lUg9HTl+oPlQxdNo3Mg4Nv175e/1LDGzZen30MEjRUtmXSfiTVu1kK8W4txyV6BMKlbgk3lMwYCiusNy9fVfvvwMxv8Ynl6vxoByANLTWplvuj/nF9m2+PDtt1eiHPBr1oIfhCChQMBw6Aw0UulqTKZdfVvfG7VcfIqLG9bcldL/+pdWTLxLUy8Qq38heUIjh4XlzZxzQm19lLFlr8vdQ97rjZVOLf8nclzckbcD4wxXMidpX30sFd37Fv/GtwwhzhxGVAprjbg0gCAEeIgwCZyTV2Z1REEW8O4py0wsjeloKoMr6iCY6dP92H6Vw/oTyICIthibxjm/DfN9lVz8IqtqKYLUXfoKVMVQVVJOElGjrnnUt9T9wbgp8AyYKaGlqingHZU/uG2NTZSVqwHQTWkx9hxjkpWDaCg6Ckj5qebgBVbT3V3NNXMSiWSDdGV3hrtzla7J+duwPOToIg42ChPQOQjspnSlp1V+Gjdged7+8UN5CRAV7a5EdFNwCjEaBR27b3W890TE7g24NAP/mMDXRWrGoFPQI9ls/MWO2dWFAar/xcOIImbbpA3zgAAAABJRU5ErkJggg==);\n",
       "        }\n",
       "    </style>\n",
       "    <div>\n",
       "        <a href=\"https://bokeh.org\" target=\"_blank\" class=\"bk-notebook-logo\"></a>\n",
       "        <span id=\"p1746\">Loading BokehJS ...</span>\n",
       "    </div>\n"
      ]
     },
     "metadata": {},
     "output_type": "display_data"
    },
    {
     "data": {
      "application/javascript": "(function(root) {\n  function now() {\n    return new Date();\n  }\n\n  const force = true;\n\n  if (typeof root._bokeh_onload_callbacks === \"undefined\" || force === true) {\n    root._bokeh_onload_callbacks = [];\n    root._bokeh_is_loading = undefined;\n  }\n\nconst JS_MIME_TYPE = 'application/javascript';\n  const HTML_MIME_TYPE = 'text/html';\n  const EXEC_MIME_TYPE = 'application/vnd.bokehjs_exec.v0+json';\n  const CLASS_NAME = 'output_bokeh rendered_html';\n\n  /**\n   * Render data to the DOM node\n   */\n  function render(props, node) {\n    const script = document.createElement(\"script\");\n    node.appendChild(script);\n  }\n\n  /**\n   * Handle when an output is cleared or removed\n   */\n  function handleClearOutput(event, handle) {\n    const cell = handle.cell;\n\n    const id = cell.output_area._bokeh_element_id;\n    const server_id = cell.output_area._bokeh_server_id;\n    // Clean up Bokeh references\n    if (id != null && id in Bokeh.index) {\n      Bokeh.index[id].model.document.clear();\n      delete Bokeh.index[id];\n    }\n\n    if (server_id !== undefined) {\n      // Clean up Bokeh references\n      const cmd_clean = \"from bokeh.io.state import curstate; print(curstate().uuid_to_server['\" + server_id + \"'].get_sessions()[0].document.roots[0]._id)\";\n      cell.notebook.kernel.execute(cmd_clean, {\n        iopub: {\n          output: function(msg) {\n            const id = msg.content.text.trim();\n            if (id in Bokeh.index) {\n              Bokeh.index[id].model.document.clear();\n              delete Bokeh.index[id];\n            }\n          }\n        }\n      });\n      // Destroy server and session\n      const cmd_destroy = \"import bokeh.io.notebook as ion; ion.destroy_server('\" + server_id + \"')\";\n      cell.notebook.kernel.execute(cmd_destroy);\n    }\n  }\n\n  /**\n   * Handle when a new output is added\n   */\n  function handleAddOutput(event, handle) {\n    const output_area = handle.output_area;\n    const output = handle.output;\n\n    // limit handleAddOutput to display_data with EXEC_MIME_TYPE content only\n    if ((output.output_type != \"display_data\") || (!Object.prototype.hasOwnProperty.call(output.data, EXEC_MIME_TYPE))) {\n      return\n    }\n\n    const toinsert = output_area.element.find(\".\" + CLASS_NAME.split(' ')[0]);\n\n    if (output.metadata[EXEC_MIME_TYPE][\"id\"] !== undefined) {\n      toinsert[toinsert.length - 1].firstChild.textContent = output.data[JS_MIME_TYPE];\n      // store reference to embed id on output_area\n      output_area._bokeh_element_id = output.metadata[EXEC_MIME_TYPE][\"id\"];\n    }\n    if (output.metadata[EXEC_MIME_TYPE][\"server_id\"] !== undefined) {\n      const bk_div = document.createElement(\"div\");\n      bk_div.innerHTML = output.data[HTML_MIME_TYPE];\n      const script_attrs = bk_div.children[0].attributes;\n      for (let i = 0; i < script_attrs.length; i++) {\n        toinsert[toinsert.length - 1].firstChild.setAttribute(script_attrs[i].name, script_attrs[i].value);\n        toinsert[toinsert.length - 1].firstChild.textContent = bk_div.children[0].textContent\n      }\n      // store reference to server id on output_area\n      output_area._bokeh_server_id = output.metadata[EXEC_MIME_TYPE][\"server_id\"];\n    }\n  }\n\n  function register_renderer(events, OutputArea) {\n\n    function append_mime(data, metadata, element) {\n      // create a DOM node to render to\n      const toinsert = this.create_output_subarea(\n        metadata,\n        CLASS_NAME,\n        EXEC_MIME_TYPE\n      );\n      this.keyboard_manager.register_events(toinsert);\n      // Render to node\n      const props = {data: data, metadata: metadata[EXEC_MIME_TYPE]};\n      render(props, toinsert[toinsert.length - 1]);\n      element.append(toinsert);\n      return toinsert\n    }\n\n    /* Handle when an output is cleared or removed */\n    events.on('clear_output.CodeCell', handleClearOutput);\n    events.on('delete.Cell', handleClearOutput);\n\n    /* Handle when a new output is added */\n    events.on('output_added.OutputArea', handleAddOutput);\n\n    /**\n     * Register the mime type and append_mime function with output_area\n     */\n    OutputArea.prototype.register_mime_type(EXEC_MIME_TYPE, append_mime, {\n      /* Is output safe? */\n      safe: true,\n      /* Index of renderer in `output_area.display_order` */\n      index: 0\n    });\n  }\n\n  // register the mime type if in Jupyter Notebook environment and previously unregistered\n  if (root.Jupyter !== undefined) {\n    const events = require('base/js/events');\n    const OutputArea = require('notebook/js/outputarea').OutputArea;\n\n    if (OutputArea.prototype.mime_types().indexOf(EXEC_MIME_TYPE) == -1) {\n      register_renderer(events, OutputArea);\n    }\n  }\n  if (typeof (root._bokeh_timeout) === \"undefined\" || force === true) {\n    root._bokeh_timeout = Date.now() + 5000;\n    root._bokeh_failed_load = false;\n  }\n\n  const NB_LOAD_WARNING = {'data': {'text/html':\n     \"<div style='background-color: #fdd'>\\n\"+\n     \"<p>\\n\"+\n     \"BokehJS does not appear to have successfully loaded. If loading BokehJS from CDN, this \\n\"+\n     \"may be due to a slow or bad network connection. Possible fixes:\\n\"+\n     \"</p>\\n\"+\n     \"<ul>\\n\"+\n     \"<li>re-rerun `output_notebook()` to attempt to load from CDN again, or</li>\\n\"+\n     \"<li>use INLINE resources instead, as so:</li>\\n\"+\n     \"</ul>\\n\"+\n     \"<code>\\n\"+\n     \"from bokeh.resources import INLINE\\n\"+\n     \"output_notebook(resources=INLINE)\\n\"+\n     \"</code>\\n\"+\n     \"</div>\"}};\n\n  function display_loaded() {\n    const el = document.getElementById(\"p1746\");\n    if (el != null) {\n      el.textContent = \"BokehJS is loading...\";\n    }\n    if (root.Bokeh !== undefined) {\n      if (el != null) {\n        el.textContent = \"BokehJS \" + root.Bokeh.version + \" successfully loaded.\";\n      }\n    } else if (Date.now() < root._bokeh_timeout) {\n      setTimeout(display_loaded, 100)\n    }\n  }\n\n  function run_callbacks() {\n    try {\n      root._bokeh_onload_callbacks.forEach(function(callback) {\n        if (callback != null)\n          callback();\n      });\n    } finally {\n      delete root._bokeh_onload_callbacks\n    }\n    console.debug(\"Bokeh: all callbacks have finished\");\n  }\n\n  function load_libs(css_urls, js_urls, callback) {\n    if (css_urls == null) css_urls = [];\n    if (js_urls == null) js_urls = [];\n\n    root._bokeh_onload_callbacks.push(callback);\n    if (root._bokeh_is_loading > 0) {\n      console.debug(\"Bokeh: BokehJS is being loaded, scheduling callback at\", now());\n      return null;\n    }\n    if (js_urls == null || js_urls.length === 0) {\n      run_callbacks();\n      return null;\n    }\n    console.debug(\"Bokeh: BokehJS not loaded, scheduling load and callback at\", now());\n    root._bokeh_is_loading = css_urls.length + js_urls.length;\n\n    function on_load() {\n      root._bokeh_is_loading--;\n      if (root._bokeh_is_loading === 0) {\n        console.debug(\"Bokeh: all BokehJS libraries/stylesheets loaded\");\n        run_callbacks()\n      }\n    }\n\n    function on_error(url) {\n      console.error(\"failed to load \" + url);\n    }\n\n    for (let i = 0; i < css_urls.length; i++) {\n      const url = css_urls[i];\n      const element = document.createElement(\"link\");\n      element.onload = on_load;\n      element.onerror = on_error.bind(null, url);\n      element.rel = \"stylesheet\";\n      element.type = \"text/css\";\n      element.href = url;\n      console.debug(\"Bokeh: injecting link tag for BokehJS stylesheet: \", url);\n      document.body.appendChild(element);\n    }\n\n    for (let i = 0; i < js_urls.length; i++) {\n      const url = js_urls[i];\n      const element = document.createElement('script');\n      element.onload = on_load;\n      element.onerror = on_error.bind(null, url);\n      element.async = false;\n      element.src = url;\n      console.debug(\"Bokeh: injecting script tag for BokehJS library: \", url);\n      document.head.appendChild(element);\n    }\n  };\n\n  function inject_raw_css(css) {\n    const element = document.createElement(\"style\");\n    element.appendChild(document.createTextNode(css));\n    document.body.appendChild(element);\n  }\n\n  const js_urls = [\"https://cdn.bokeh.org/bokeh/release/bokeh-3.0.2.min.js\", \"https://cdn.bokeh.org/bokeh/release/bokeh-gl-3.0.2.min.js\", \"https://cdn.bokeh.org/bokeh/release/bokeh-widgets-3.0.2.min.js\", \"https://cdn.bokeh.org/bokeh/release/bokeh-tables-3.0.2.min.js\", \"https://cdn.bokeh.org/bokeh/release/bokeh-mathjax-3.0.2.min.js\"];\n  const css_urls = [];\n\n  const inline_js = [    function(Bokeh) {\n      Bokeh.set_log_level(\"info\");\n    },\nfunction(Bokeh) {\n    }\n  ];\n\n  function run_inline_js() {\n    if (root.Bokeh !== undefined || force === true) {\n          for (let i = 0; i < inline_js.length; i++) {\n      inline_js[i].call(root, root.Bokeh);\n    }\nif (force === true) {\n        display_loaded();\n      }} else if (Date.now() < root._bokeh_timeout) {\n      setTimeout(run_inline_js, 100);\n    } else if (!root._bokeh_failed_load) {\n      console.log(\"Bokeh: BokehJS failed to load within specified timeout.\");\n      root._bokeh_failed_load = true;\n    } else if (force !== true) {\n      const cell = $(document.getElementById(\"p1746\")).parents('.cell').data().cell;\n      cell.output_area.append_execute_result(NB_LOAD_WARNING)\n    }\n  }\n\n  if (root._bokeh_is_loading === 0) {\n    console.debug(\"Bokeh: BokehJS loaded, going straight to plotting\");\n    run_inline_js();\n  } else {\n    load_libs(css_urls, js_urls, function() {\n      console.debug(\"Bokeh: BokehJS plotting callback run at\", now());\n      run_inline_js();\n    });\n  }\n}(window));",
      "application/vnd.bokehjs_load.v0+json": ""
     },
     "metadata": {},
     "output_type": "display_data"
    },
    {
     "data": {
      "text/html": [
       "\n",
       "  <div id=\"1658c073-f06c-45b4-876b-84d42f45190d\" data-root-id=\"p1810\" style=\"display: contents;\"></div>\n"
      ]
     },
     "metadata": {},
     "output_type": "display_data"
    },
    {
     "data": {
      "application/javascript": "(function(root) {\n  function embed_document(root) {\n  const docs_json = {\"8e750371-c733-4375-b88a-1274f8952eb9\":{\"version\":\"3.0.2\",\"title\":\"Bokeh Application\",\"defs\":[],\"roots\":[{\"type\":\"object\",\"name\":\"Column\",\"id\":\"p1810\",\"attributes\":{\"children\":[{\"type\":\"object\",\"name\":\"Select\",\"id\":\"p1754\",\"attributes\":{\"js_property_callbacks\":{\"type\":\"map\",\"entries\":[[\"change:value\",[{\"type\":\"object\",\"name\":\"CustomJS\",\"id\":\"p1753\",\"attributes\":{\"args\":{\"type\":\"map\",\"entries\":[[\"source\",{\"type\":\"object\",\"name\":\"ColumnDataSource\",\"id\":\"p1747\",\"attributes\":{\"selected\":{\"type\":\"object\",\"name\":\"Selection\",\"id\":\"p1749\",\"attributes\":{\"indices\":[],\"line_indices\":[]}},\"selection_policy\":{\"type\":\"object\",\"name\":\"UnionRenderers\",\"id\":\"p1748\"},\"data\":{\"type\":\"map\",\"entries\":[[\"Country\",[\"China\",\"USA\",\"India\",\"France\",\"Germany\",\"Brazil\",\"S. Korea\",\"Japan\",\"Italy\",\"UK\",\"China\",\"USA\",\"India\",\"France\",\"Germany\",\"Brazil\",\"S. Korea\",\"Japan\",\"Italy\",\"UK\"]],[\"Population\",[1448471400,334805269,1406631776,65584518,83883596,215353593,51329899,125584838,60262770,68497907,1448471400,334805269,1406631776,65584518,83883596,215353593,51329899,125584838,60262770,68497907]],[\"Deaths\",[5235,1109200,530647,159455,158684,690635,30847,50819,181733,197253,5235,1108183,530633,159245,158386,690298,30769,50461,181733,197253]],[\"Deaths/Million\",[4,3313,377,2431,1892,3207,601,405,3016,2880,4,3310,377,2428,1888,3205,599,402,3016,2880]],[\"New Deaths\",[0,399,9,93,125,170,54,211,0,0,0,173,3,104,188,67,40,117,0,0]],[\"New Deaths/Million\",[0.0,0.119,0.001,0.142,0.149,0.079,0.105,0.168,0.0,0.0,0.0,0.052,0.0,0.159,0.224,0.031,0.078,0.093,0.0,0.0]],[\"Day\",[8,8,8,8,8,8,8,8,8,8,7,7,7,7,7,7,7,7,7,7]]]}}}],[\"sc\",{\"type\":\"map\",\"entries\":[[\"Country\",[\"Brazil\",\"Brazil\"]],[\"Population\",[215353593,215353593]],[\"Deaths\",[690635,690298]],[\"Deaths/Million\",[3207,3205]],[\"New Deaths\",[170,67]],[\"New Deaths/Million\",[0.079,0.031]],[\"Day\",[8,7]]]}]]},\"code\":\"\\nvar f = cb_obj.value\\nsc.data['New Deaths']=[]\\nsc.data['Day']=[]\\nfor(var i = 0; i <= source.get_length(); i++){\\n\\tif (source.data['Country'][i] == f){\\n\\t\\tsc.data['New Deaths'].push(source.data['Population'][i])\\n\\t\\tsc.data['Day'].push(source.data['fertilitys'][i])\\n\\t }\\n}   \\n   \\nsc.change.emit();\\n\"}}]]]},\"title\":\"Country\",\"options\":[\"Brazil\",\"China\",\"France\",\"Germany\",\"India\",\"Italy\",\"Japan\",\"S. Korea\",\"UK\",\"USA\"],\"value\":\"Brazil\"}},{\"type\":\"object\",\"name\":\"Figure\",\"id\":\"p1755\",\"attributes\":{\"x_range\":{\"type\":\"object\",\"name\":\"DataRange1d\",\"id\":\"p1756\"},\"y_range\":{\"type\":\"object\",\"name\":\"DataRange1d\",\"id\":\"p1757\"},\"x_scale\":{\"type\":\"object\",\"name\":\"LinearScale\",\"id\":\"p1768\"},\"y_scale\":{\"type\":\"object\",\"name\":\"LinearScale\",\"id\":\"p1770\"},\"title\":{\"type\":\"object\",\"name\":\"Title\",\"id\":\"p1761\"},\"renderers\":[{\"type\":\"object\",\"name\":\"GlyphRenderer\",\"id\":\"p1807\",\"attributes\":{\"data_source\":{\"type\":\"object\",\"name\":\"ColumnDataSource\",\"id\":\"p1750\",\"attributes\":{\"selected\":{\"type\":\"object\",\"name\":\"Selection\",\"id\":\"p1752\",\"attributes\":{\"indices\":[],\"line_indices\":[]}},\"selection_policy\":{\"type\":\"object\",\"name\":\"UnionRenderers\",\"id\":\"p1751\"},\"data\":{\"type\":\"map\",\"entries\":[[\"Country\",[\"Brazil\",\"Brazil\"]],[\"Population\",[215353593,215353593]],[\"Deaths\",[690635,690298]],[\"Deaths/Million\",[3207,3205]],[\"New Deaths\",[170,67]],[\"New Deaths/Million\",[0.079,0.031]],[\"Day\",[8,7]]]}}},\"view\":{\"type\":\"object\",\"name\":\"CDSView\",\"id\":\"p1808\",\"attributes\":{\"filter\":{\"type\":\"object\",\"name\":\"AllIndices\",\"id\":\"p1809\"}}},\"glyph\":{\"type\":\"object\",\"name\":\"Line\",\"id\":\"p1804\",\"attributes\":{\"x\":{\"type\":\"field\",\"field\":\"Day\"},\"y\":{\"type\":\"field\",\"field\":\"New Deaths\"},\"line_color\":\"green\"}},\"nonselection_glyph\":{\"type\":\"object\",\"name\":\"Line\",\"id\":\"p1805\",\"attributes\":{\"x\":{\"type\":\"field\",\"field\":\"Day\"},\"y\":{\"type\":\"field\",\"field\":\"New Deaths\"},\"line_color\":\"green\",\"line_alpha\":0.1}},\"muted_glyph\":{\"type\":\"object\",\"name\":\"Line\",\"id\":\"p1806\",\"attributes\":{\"x\":{\"type\":\"field\",\"field\":\"Day\"},\"y\":{\"type\":\"field\",\"field\":\"New Deaths\"},\"line_color\":\"green\",\"line_alpha\":0.2}}}}],\"toolbar\":{\"type\":\"object\",\"name\":\"Toolbar\",\"id\":\"p1760\",\"attributes\":{\"tools\":[{\"type\":\"object\",\"name\":\"PanTool\",\"id\":\"p1786\"},{\"type\":\"object\",\"name\":\"WheelZoomTool\",\"id\":\"p1787\"},{\"type\":\"object\",\"name\":\"BoxZoomTool\",\"id\":\"p1788\",\"attributes\":{\"overlay\":{\"type\":\"object\",\"name\":\"BoxAnnotation\",\"id\":\"p1789\",\"attributes\":{\"syncable\":false,\"level\":\"overlay\",\"visible\":false,\"left_units\":\"canvas\",\"right_units\":\"canvas\",\"bottom_units\":\"canvas\",\"top_units\":\"canvas\",\"line_color\":\"black\",\"line_alpha\":1.0,\"line_width\":2,\"line_dash\":[4,4],\"fill_color\":\"lightgrey\",\"fill_alpha\":0.5}}}},{\"type\":\"object\",\"name\":\"SaveTool\",\"id\":\"p1790\"},{\"type\":\"object\",\"name\":\"ResetTool\",\"id\":\"p1791\"},{\"type\":\"object\",\"name\":\"HelpTool\",\"id\":\"p1792\"}]}},\"left\":[{\"type\":\"object\",\"name\":\"LinearAxis\",\"id\":\"p1779\",\"attributes\":{\"ticker\":{\"type\":\"object\",\"name\":\"BasicTicker\",\"id\":\"p1781\",\"attributes\":{\"mantissas\":[1,2,5]}},\"formatter\":{\"type\":\"object\",\"name\":\"BasicTickFormatter\",\"id\":\"p1780\"},\"axis_label\":\"New Deaths\",\"major_label_policy\":{\"type\":\"object\",\"name\":\"AllLabels\",\"id\":\"p1782\"}}}],\"below\":[{\"type\":\"object\",\"name\":\"LinearAxis\",\"id\":\"p1772\",\"attributes\":{\"ticker\":{\"type\":\"object\",\"name\":\"BasicTicker\",\"id\":\"p1774\",\"attributes\":{\"mantissas\":[1,2,5]}},\"formatter\":{\"type\":\"object\",\"name\":\"BasicTickFormatter\",\"id\":\"p1773\"},\"axis_label\":\"Day\",\"major_label_policy\":{\"type\":\"object\",\"name\":\"AllLabels\",\"id\":\"p1775\"}}}],\"center\":[{\"type\":\"object\",\"name\":\"Grid\",\"id\":\"p1778\",\"attributes\":{\"axis\":{\"id\":\"p1772\"}}},{\"type\":\"object\",\"name\":\"Grid\",\"id\":\"p1785\",\"attributes\":{\"dimension\":1,\"axis\":{\"id\":\"p1779\"}}}]}}]}}]}};\n  const render_items = [{\"docid\":\"8e750371-c733-4375-b88a-1274f8952eb9\",\"roots\":{\"p1810\":\"1658c073-f06c-45b4-876b-84d42f45190d\"},\"root_ids\":[\"p1810\"]}];\n  root.Bokeh.embed.embed_items_notebook(docs_json, render_items);\n  }\n  if (root.Bokeh !== undefined) {\n    embed_document(root);\n  } else {\n    let attempts = 0;\n    const timer = setInterval(function(root) {\n      if (root.Bokeh !== undefined) {\n        clearInterval(timer);\n        embed_document(root);\n      } else {\n        attempts++;\n        if (attempts > 100) {\n          clearInterval(timer);\n          console.log(\"Bokeh: ERROR: Unable to run BokehJS code because BokehJS library is missing\");\n        }\n      }\n    }, 10, root)\n  }\n})(window);",
      "application/vnd.bokehjs_exec.v0+json": ""
     },
     "metadata": {
      "application/vnd.bokehjs_exec.v0+json": {
       "id": "p1810"
      }
     },
     "output_type": "display_data"
    }
   ],
   "source": [
    "import json\n",
    "from bokeh.io import output_file, show, output_notebook, curdoc\n",
    "from bokeh.models import ColumnDataSource, Select, CustomJS, Dropdown\n",
    "from bokeh.plotting import figure \n",
    "from bokeh.layouts import column\n",
    "\n",
    "import numpy as np\n",
    "\n",
    "\n",
    "with open(\"COVID_2022-12-08.json\", 'r') as openfile:\n",
    "    COVID = json.load(openfile)\n",
    "Countries = list(COVID.keys())\n",
    "\n",
    "Deaths = []\n",
    "Population = []\n",
    "DeathMill = []\n",
    "NewDeaths = []\n",
    "NewDeathsPerMil = []\n",
    "day = []\n",
    "Country = []\n",
    "for rr in range(0, 10):#len(Countries)):\n",
    "    Country.append(Countries[rr])\n",
    "    Deaths.append(COVID.get(Countries[rr],{}).get('Deaths'))\n",
    "    Population.append(COVID.get(Countries[rr],{}).get('Population'))\n",
    "    DeathMill.append(COVID.get(Countries[rr],{}).get('Deaths/Million'))\n",
    "    NewDeaths.append(COVID.get(Countries[rr],{}).get('New Deaths'))\n",
    "    NewDeathsPerMil.append(COVID.get(Countries[rr],{}).get('New Deaths/Million'))\n",
    "    day.append(8)\n",
    "with open(\"COVID_2022-12-07.json\", 'r') as openfile:\n",
    "    COVID = json.load(openfile)\n",
    "for rr in range(0, 10):#len(Countries)):\n",
    "    Country.append(Countries[rr])\n",
    "    Deaths.append(COVID.get(Countries[rr],{}).get('Deaths'))\n",
    "    Population.append(COVID.get(Countries[rr],{}).get('Population'))\n",
    "    DeathMill.append(COVID.get(Countries[rr],{}).get('Deaths/Million'))\n",
    "    NewDeaths.append(COVID.get(Countries[rr],{}).get('New Deaths'))\n",
    "    NewDeathsPerMil.append(COVID.get(Countries[rr],{}).get('New Deaths/Million'))\n",
    "    day.append(7)\n",
    "\n",
    "data = {'Country'           : Country,\n",
    "        'Population'        : Population,\n",
    "        'Deaths'            : Deaths,\n",
    "        'Deaths/Million'    : DeathMill, \n",
    "        'New Deaths'        : NewDeaths, \n",
    "        'New Deaths/Million': NewDeathsPerMil,\n",
    "        'Day'               : day}\n",
    "\n",
    "Overall = ColumnDataSource(data=data)\n",
    "CurrDeaths = []\n",
    "CurrPopulation = []\n",
    "CurrDeathMill = []\n",
    "CurrNewDeaths = []\n",
    "CurrNewDeathsPerMil = []\n",
    "Currday = []\n",
    "CurrCountry = []\n",
    "rr = 1\n",
    "for ii in range(len(list(data['Country']))):\n",
    "    if 'Brazil' == data['Country'][ii]:\n",
    "        CurrCountry.append(data['Country'][ii])\n",
    "        CurrPopulation.append(data['Population'][ii])\n",
    "        CurrDeaths.append(data['Deaths'][ii])\n",
    "        CurrDeathMill.append(data['Deaths/Million'][ii])\n",
    "        CurrNewDeaths.append(data['New Deaths'][ii])\n",
    "        CurrNewDeathsPerMil.append(data['New Deaths/Million'][ii])\n",
    "        Currday.append(data['Day'][ii])\n",
    "CurrData = {'Country'       : CurrCountry,\n",
    "        'Population'        : CurrPopulation,\n",
    "        'Deaths'            : CurrDeaths,\n",
    "        'Deaths/Million'    : CurrDeathMill, \n",
    "        'New Deaths'        : CurrNewDeaths, \n",
    "        'New Deaths/Million': CurrNewDeathsPerMil,\n",
    "        'Day'               : Currday}\n",
    "\n",
    "Curr = ColumnDataSource(data=CurrData)\n",
    "#plot and the menu is linked with each other by this callback function\n",
    "callback = CustomJS(args=dict(source=Overall, sc=CurrData), code=\"\"\"\n",
    "var f = cb_obj.value\n",
    "sc.data['New Deaths']=[]\n",
    "sc.data['Day']=[]\n",
    "for(var i = 0; i <= source.get_length(); i++){\n",
    "\tif (source.data['Country'][i] == f){\n",
    "\t\tsc.data['New Deaths'].push(source.data['Population'][i])\n",
    "\t\tsc.data['Day'].push(source.data['fertilitys'][i])\n",
    "\t }\n",
    "}   \n",
    "   \n",
    "sc.change.emit();\n",
    "\"\"\")\n",
    "\n",
    "menu = Select(options=list(np.unique(list(data['Country']))),value='Brazil', title = 'Country')  # drop down menu\n",
    "p=figure(x_axis_label ='Day', y_axis_label = 'New Deaths') #creating figure object \n",
    "p.line(x='Day', y='New Deaths', color='green', source=Curr) # plotting the data using glyph circle\n",
    "#menu.js_on_change('value', callback) # calling the function on change of selection\n",
    "menu.on_change('value', callback)\n",
    "layout=column(menu, p) # creating the layout\n",
    "#replace outputfile and show() with\n",
    "\n",
    "#curdoc().add_root(layout)\n",
    "#curdoc().title = 'COVID'\n",
    "\n",
    "#output_file('PleaseFuckingWork.html')\n",
    "show(layout) # displaying the layout\n",
    "\n"
   ]
  }
 ],
 "metadata": {
  "kernelspec": {
   "display_name": "Python 3",
   "language": "python",
   "name": "python3"
  },
  "language_info": {
   "codemirror_mode": {
    "name": "ipython",
    "version": 3
   },
   "file_extension": ".py",
   "mimetype": "text/x-python",
   "name": "python",
   "nbconvert_exporter": "python",
   "pygments_lexer": "ipython3",
   "version": "3.11.0 (main, Oct 24 2022, 18:26:48) [MSC v.1933 64 bit (AMD64)]"
  },
  "orig_nbformat": 4,
  "vscode": {
   "interpreter": {
    "hash": "c261aea317cc0286b3b3261fbba9abdec21eaa57589985bb7a274bf54d6cc0a7"
   }
  }
 },
 "nbformat": 4,
 "nbformat_minor": 2
}
