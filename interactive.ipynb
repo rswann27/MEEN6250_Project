{
 "cells": [
  {
   "cell_type": "code",
   "execution_count": 10,
   "metadata": {},
   "outputs": [
    {
     "name": "stdout",
     "output_type": "stream",
     "text": [
      "['Population', 'Deaths', 'Deaths/Million', 'New Deaths', 'New Deaths/Million']\n"
     ]
    },
    {
     "data": {
      "text/plain": [
       "'\\n### Create Bokeh bar Chart\\ndef create_bar_chart(df, sel_col):\\n    chart = figure(\\n                    x_range=\\'Countries\\',\\n                    width=500, height=400,\\n                    title=\"COVID: {} by Coutry\".format(sel_col.capitalize()),\\n                    background_fill_color=\"lightgray\"\\n                  )\\n\\n    bars = chart.vbar(\\n                x=\"Countries\",\\n                top=sel_col,\\n                width=0.8, color=\"dodgerblue\",\\n                source=df\\n              )\\n\\n    chart.xaxis.axis_label=\"Country\"\\n    chart.yaxis.axis_label=\"{}\".format(sel_col.capitalize())\\n\\n    return chart\\n\\n## Create GUI with Dropdown and Chart\\n@ipywidgets.interact(\\n    sel_col = ipywidgets.Dropdown(options=, description=\"Data Column\")\\n)\\ndef create_gui(agg_func, sel_col):\\n    if agg_func == \"var\":\\n        agg_wine_df = wine_df.groupby(by=\"WineType\").var().reset_index()\\n    elif agg_func == \"std\":\\n        agg_wine_df = wine_df.groupby(by=\"WineType\").std().reset_index()\\n    else:\\n        agg_wine_df = wine_df.groupby(by=\"WineType\").mean().reset_index()\\n\\n\\n    chart = create_bar_chart(agg_wine_df, agg_func, sel_col)\\n\\n    show(chart)\\n'"
      ]
     },
     "execution_count": 10,
     "metadata": {},
     "output_type": "execute_result"
    }
   ],
   "source": [
    "from bokeh.plotting import figure, show\n",
    "from bokeh.models import ColumnDataSource\n",
    "import ipywidgets\n",
    "import json\n",
    "\n",
    "# open json file\n",
    "with open(\"COVID_2022-12-07.json\", 'r') as openfile:\n",
    "    COVID = json.load(openfile)\n",
    "Countries = list(COVID.keys())\n",
    "\n",
    "Deaths = []\n",
    "Population = []\n",
    "DeathMill = []\n",
    "NewDeaths = []\n",
    "NewDeathsPerMil = []\n",
    "Country = []\n",
    "for rr in range(0, 10):#len(Countries)):\n",
    "    Country.append(Countries[rr])\n",
    "    Deaths.append(COVID.get(Countries[rr],{}).get('Deaths'))\n",
    "    Population.append(COVID.get(Countries[rr],{}).get('Population'))\n",
    "    DeathMill.append(COVID.get(Countries[rr],{}).get('Deaths/Million'))\n",
    "    NewDeaths.append(COVID.get(Countries[rr],{}).get('New Deaths'))\n",
    "    NewDeathsPerMil.append(COVID.get(Countries[rr],{}).get('New Deaths/Million'))\n",
    "data = {'Country'           : Country,\n",
    "        'Population'        : Population,\n",
    "        'Deaths'            : Deaths,\n",
    "        'Deaths/Million'    : DeathMill, \n",
    "        'New Deaths'        : NewDeaths, \n",
    "        'New Deaths/Million': NewDeathsPerMil}\n",
    "\n",
    "source = ColumnDataSource(data=data)\n",
    "column = {key: val for key,\n",
    "            val in data.items() if key != 'Country'}\n",
    "column = list(column.keys())\n",
    "print(column)\n",
    "\n",
    "### Create Bokeh bar Chart\n",
    "def create_bar_chart(df, sel_col):\n",
    "    chart = figure(\n",
    "                    x_range='Countries',\n",
    "                    width=500, height=400,\n",
    "                    title=\"COVID: {} by Coutry\".format(sel_col.capitalize()),\n",
    "                    background_fill_color=\"lightgray\"\n",
    "                  )\n",
    "\n",
    "    bars = chart.vbar(\n",
    "                x=\"Countries\",\n",
    "                top=sel_col,\n",
    "                width=0.8, color=\"dodgerblue\",\n",
    "                source=df\n",
    "              )\n",
    "\n",
    "    chart.xaxis.axis_label=\"Country\"\n",
    "    chart.yaxis.axis_label=\"{}\".format(sel_col.capitalize())\n",
    "\n",
    "    return chart\n",
    "\n",
    "## Create GUI with Dropdown and Chart\n",
    "@ipywidgets.interact(\n",
    "    sel_col = ipywidgets.Dropdown(options=column, description=\"COVID Data\")\n",
    ")\n",
    "def create_gui(agg_func, sel_col):\n",
    "    chart = create_bar_chart(source, sel_col)\n",
    "\n",
    "    show(chart)\n"
   ]
  }
 ],
 "metadata": {
  "kernelspec": {
   "display_name": "Python 3",
   "language": "python",
   "name": "python3"
  },
  "language_info": {
   "codemirror_mode": {
    "name": "ipython",
    "version": 3
   },
   "file_extension": ".py",
   "mimetype": "text/x-python",
   "name": "python",
   "nbconvert_exporter": "python",
   "pygments_lexer": "ipython3",
   "version": "3.11.0"
  },
  "orig_nbformat": 4,
  "vscode": {
   "interpreter": {
    "hash": "c261aea317cc0286b3b3261fbba9abdec21eaa57589985bb7a274bf54d6cc0a7"
   }
  }
 },
 "nbformat": 4,
 "nbformat_minor": 2
}
